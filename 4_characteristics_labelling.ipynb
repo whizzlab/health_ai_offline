{
 "cells": [
  {
   "cell_type": "code",
   "execution_count": 1,
   "id": "d0d403c7",
   "metadata": {},
   "outputs": [],
   "source": [
    "import os\n",
    "import shutil\n",
    "import sys\n",
    "from tqdm import tqdm\n",
    "\n",
    "import tensorflow as tf\n",
    "import tensorflow_hub as hub\n",
    "import tensorflow_text as text\n",
    "from official.nlp import optimization  # to create AdamW optimizer\n",
    "\n",
    "tf.get_logger().setLevel('ERROR')"
   ]
  },
  {
   "cell_type": "code",
   "execution_count": 2,
   "id": "d6838b41",
   "metadata": {},
   "outputs": [],
   "source": [
    "import pandas as pd\n",
    "import numpy as np\n",
    "import matplotlib.pyplot as plt\n",
    "import seaborn as sns\n",
    "import re\n",
    "import nltk\n",
    "\n",
    "#for BERT\n",
    "import transformers"
   ]
  },
  {
   "cell_type": "code",
   "execution_count": 3,
   "id": "4510e657",
   "metadata": {},
   "outputs": [
    {
     "name": "stdout",
     "output_type": "stream",
     "text": [
      "[name: \"/device:CPU:0\"\n",
      "device_type: \"CPU\"\n",
      "memory_limit: 268435456\n",
      "locality {\n",
      "}\n",
      "incarnation: 11765252691709507486\n",
      ", name: \"/device:GPU:0\"\n",
      "device_type: \"GPU\"\n",
      "memory_limit: 22723493888\n",
      "locality {\n",
      "  bus_id: 1\n",
      "  links {\n",
      "  }\n",
      "}\n",
      "incarnation: 18059970968359081302\n",
      "physical_device_desc: \"device: 0, name: NVIDIA GeForce RTX 3090, pci bus id: 0000:01:00.0, compute capability: 8.6\"\n",
      "]\n",
      "2.5.0\n"
     ]
    }
   ],
   "source": [
    "from tensorflow.python.client import device_lib\n",
    "print(device_lib.list_local_devices())\n",
    "print(tf.__version__)"
   ]
  },
  {
   "cell_type": "code",
   "execution_count": 4,
   "id": "575ce426",
   "metadata": {},
   "outputs": [],
   "source": [
    "# GPU options to limit OOM erors\n",
    "physical_devices = tf.config.experimental.list_physical_devices('GPU')\n",
    "tf.config.experimental.set_memory_growth(physical_devices[0], True)"
   ]
  },
  {
   "cell_type": "code",
   "execution_count": 18,
   "id": "801d13e0",
   "metadata": {},
   "outputs": [],
   "source": [
    "pd.set_option('display.max_colwidth', None)\n",
    "pd.options.display.max_columns = None"
   ]
  },
  {
   "cell_type": "markdown",
   "id": "862bb192",
   "metadata": {},
   "source": [
    "## Reload model"
   ]
  },
  {
   "cell_type": "code",
   "execution_count": 5,
   "id": "e03214bc",
   "metadata": {},
   "outputs": [],
   "source": [
    "#RELOAD MODEL\n",
    "\n",
    "saved_model_path = 'models/multilabel_characteristics_bert'\n",
    "\n",
    "reloaded_model = tf.saved_model.load(saved_model_path)"
   ]
  },
  {
   "cell_type": "code",
   "execution_count": 6,
   "id": "40e5e78d",
   "metadata": {},
   "outputs": [
    {
     "data": {
      "text/plain": [
       "<tensorflow.python.saved_model.load.Loader._recreate_base_user_object.<locals>._UserObject at 0x22698bd97f0>"
      ]
     },
     "execution_count": 6,
     "metadata": {},
     "output_type": "execute_result"
    }
   ],
   "source": [
    "reloaded_model"
   ]
  },
  {
   "cell_type": "markdown",
   "id": "4960d6e2",
   "metadata": {},
   "source": [
    "## Label data with characteristics"
   ]
  },
  {
   "cell_type": "code",
   "execution_count": 7,
   "id": "fae69321",
   "metadata": {},
   "outputs": [],
   "source": [
    "complete = pd.read_csv('data/mature_labelled.csv', index_col=0)"
   ]
  },
  {
   "cell_type": "code",
   "execution_count": 10,
   "id": "f2259b76",
   "metadata": {},
   "outputs": [],
   "source": [
    "def predict_labels(model, df, label_name: list, logit_model=True, feature_column='feature', chunk_size=100):\n",
    "    \n",
    "    labelled_df = df[feature_column].copy()\n",
    "    labelled_df = labelled_df.to_frame()\n",
    "    labelled_df[label_name] = np.nan\n",
    "    \n",
    "    with tqdm(total=len(labelled_df), file=sys.stdout) as pbar:\n",
    "         for chunk_i in range(0, len(labelled_df.index), chunk_size):\n",
    "                \n",
    "                chunk = labelled_df.index[chunk_i:chunk_i + chunk_size]\n",
    "                \n",
    "                if logit_model:\n",
    "                    labels = np.round(tf.sigmoid(model(tf.constant(labelled_df.loc[chunk, feature_column]))))\n",
    "                else:\n",
    "                    labels = labels = np.round(model(tf.constant(labelled_df.loc[chunk, feature_column])))\n",
    "\n",
    "                labelled_df.loc[chunk, label_name] = labels\n",
    "                \n",
    "                pbar.update(len(chunk))\n",
    "                \n",
    "    return labelled_df"
   ]
  },
  {
   "cell_type": "code",
   "execution_count": 11,
   "id": "d59f34f9",
   "metadata": {},
   "outputs": [],
   "source": [
    "char_labels = ['algo_neural_net', 'algo_support_vector', 'algo_regression', 'algo_decision_tree', 'feat_xr', 'feat_ct', 'feat_mri', 'feat_eeg',\n",
    " 'feat_ecg', 'feat_emg', 'feat_us', 'feat_echo', 'feat_histo', 'feat_oct', 'feat_mamm', 'feat_endoscop', 'feat_gene', 'feat_bio', 'feat_nlp', 'feat_ehr',\n",
    " 'subspec_icu', 'subspec_ed', 'spec_paeds', 'spec_id', 'subspec_sepsis', 'subspec_cov19', 'subspec_dermca', 'spec_onc', 'subspec_lungca', 'subspec_brainca',\n",
    " 'subspec_gica', 'subspec_hepca', 'subspec_prosca', 'subspec_gynonc', 'subspec_haemonc', 'subspec_breastca', 'subspec_urology', 'spec_psych',\n",
    " 'spec_msk', 'spec_gi', 'spec_hep', 'spec_resp', 'subspec_pneum', 'spec_neuro', 'subspec_epilep', 'subspec_cva', 'subspec_alzh', 'spec_cvs',\n",
    " 'subspec_ihd', 'subspec_hf', 'subspec_arrhyt', 'spec_dm', 'subspec_retina', 'spec_haem', 'spec_obs', 'spec_renal']"
   ]
  },
  {
   "cell_type": "code",
   "execution_count": 12,
   "id": "30e2b04f",
   "metadata": {},
   "outputs": [],
   "source": [
    "def label_unlabelled(tolabeldf):\n",
    "    characteristics_labelled = predict_labels(model = reloaded_model,\n",
    "                                              df = tolabeldf,\n",
    "                                              label_name = char_labels,\n",
    "                                              logit_model=False)\n",
    "    tolabeldf.loc[characteristics_labelled.index, char_labels] = characteristics_labelled[char_labels]\n",
    "    print(\"Characteristic labelling complete...\")"
   ]
  },
  {
   "cell_type": "code",
   "execution_count": 13,
   "id": "fa0263ad-40f1-42cf-9f5e-7928f9f7bf7c",
   "metadata": {},
   "outputs": [
    {
     "name": "stdout",
     "output_type": "stream",
     "text": [
      "100%|████████████████████████████████████████████████████████████████████████████| 42307/42307 [10:42<00:00, 65.86it/s]\n",
      "Characteristic labelling complete...\n"
     ]
    }
   ],
   "source": [
    "labelled = label_unlabelled(complete)"
   ]
  },
  {
   "cell_type": "code",
   "execution_count": 22,
   "id": "0e4cc1f1",
   "metadata": {},
   "outputs": [
    {
     "name": "stdout",
     "output_type": "stream",
     "text": [
      "<class 'pandas.core.frame.DataFrame'>\n",
      "Int64Index: 42307 entries, 1 to 192947\n",
      "Data columns (total 76 columns):\n",
      " #   Column               Non-Null Count  Dtype  \n",
      "---  ------               --------------  -----  \n",
      " 0   pmid                 42307 non-null  int64  \n",
      " 1   doi                  37409 non-null  object \n",
      " 2   title                42306 non-null  object \n",
      " 3   abstract             42307 non-null  object \n",
      " 4   article_date         32669 non-null  object \n",
      " 5   pubmed_date          42307 non-null  object \n",
      " 6   article_type         42307 non-null  object \n",
      " 7   lang                 42307 non-null  object \n",
      " 8   journal              42307 non-null  object \n",
      " 9   journal_short        42307 non-null  object \n",
      " 10  journal_country      42307 non-null  object \n",
      " 11  authors              41281 non-null  object \n",
      " 12  author_affils        31156 non-null  object \n",
      " 13  keywords             24364 non-null  object \n",
      " 14  mesh_terms           32535 non-null  object \n",
      " 15  references_pmids     21512 non-null  object \n",
      " 16  feature              42307 non-null  object \n",
      " 17  year                 42307 non-null  int64  \n",
      " 18  include              42307 non-null  float64\n",
      " 19  mature               42307 non-null  float64\n",
      " 20  algo_neural_net      42307 non-null  float64\n",
      " 21  algo_support_vector  42307 non-null  float64\n",
      " 22  algo_regression      42307 non-null  float64\n",
      " 23  algo_decision_tree   42307 non-null  float64\n",
      " 24  feat_xr              42307 non-null  float64\n",
      " 25  feat_ct              42307 non-null  float64\n",
      " 26  feat_mri             42307 non-null  float64\n",
      " 27  feat_eeg             42307 non-null  float64\n",
      " 28  feat_ecg             42307 non-null  float64\n",
      " 29  feat_emg             42307 non-null  float64\n",
      " 30  feat_us              42307 non-null  float64\n",
      " 31  feat_echo            42307 non-null  float64\n",
      " 32  feat_histo           42307 non-null  float64\n",
      " 33  feat_oct             42307 non-null  float64\n",
      " 34  feat_mamm            42307 non-null  float64\n",
      " 35  feat_endoscop        42307 non-null  float64\n",
      " 36  feat_gene            42307 non-null  float64\n",
      " 37  feat_bio             42307 non-null  float64\n",
      " 38  feat_nlp             42307 non-null  float64\n",
      " 39  feat_ehr             42307 non-null  float64\n",
      " 40  subspec_icu          42307 non-null  float64\n",
      " 41  subspec_ed           42307 non-null  float64\n",
      " 42  spec_paeds           42307 non-null  float64\n",
      " 43  spec_id              42307 non-null  float64\n",
      " 44  subspec_sepsis       42307 non-null  float64\n",
      " 45  subspec_cov19        42307 non-null  float64\n",
      " 46  subspec_dermca       42307 non-null  float64\n",
      " 47  spec_onc             42307 non-null  float64\n",
      " 48  subspec_lungca       42307 non-null  float64\n",
      " 49  subspec_brainca      42307 non-null  float64\n",
      " 50  subspec_gica         42307 non-null  float64\n",
      " 51  subspec_hepca        42307 non-null  float64\n",
      " 52  subspec_prosca       42307 non-null  float64\n",
      " 53  subspec_gynonc       42307 non-null  float64\n",
      " 54  subspec_haemonc      42307 non-null  float64\n",
      " 55  subspec_breastca     42307 non-null  float64\n",
      " 56  subspec_urology      42307 non-null  float64\n",
      " 57  spec_psych           42307 non-null  float64\n",
      " 58  spec_msk             42307 non-null  float64\n",
      " 59  spec_gi              42307 non-null  float64\n",
      " 60  spec_hep             42307 non-null  float64\n",
      " 61  spec_resp            42307 non-null  float64\n",
      " 62  subspec_pneum        42307 non-null  float64\n",
      " 63  spec_neuro           42307 non-null  float64\n",
      " 64  subspec_epilep       42307 non-null  float64\n",
      " 65  subspec_cva          42307 non-null  float64\n",
      " 66  subspec_alzh         42307 non-null  float64\n",
      " 67  spec_cvs             42307 non-null  float64\n",
      " 68  subspec_ihd          42307 non-null  float64\n",
      " 69  subspec_hf           42307 non-null  float64\n",
      " 70  subspec_arrhyt       42307 non-null  float64\n",
      " 71  spec_dm              42307 non-null  float64\n",
      " 72  subspec_retina       42307 non-null  float64\n",
      " 73  spec_haem            42307 non-null  float64\n",
      " 74  spec_obs             42307 non-null  float64\n",
      " 75  spec_renal           42307 non-null  float64\n",
      "dtypes: float64(58), int64(2), object(16)\n",
      "memory usage: 25.9+ MB\n"
     ]
    }
   ],
   "source": [
    "complete.info()"
   ]
  },
  {
   "cell_type": "code",
   "execution_count": 14,
   "id": "652af20d",
   "metadata": {},
   "outputs": [],
   "source": [
    "complete.to_csv(\"data/characteristics_labelled.csv\")"
   ]
  }
 ],
 "metadata": {
  "kernelspec": {
   "display_name": "Python 3 (ipykernel)",
   "language": "python",
   "name": "python3"
  },
  "language_info": {
   "codemirror_mode": {
    "name": "ipython",
    "version": 3
   },
   "file_extension": ".py",
   "mimetype": "text/x-python",
   "name": "python",
   "nbconvert_exporter": "python",
   "pygments_lexer": "ipython3",
   "version": "3.9.5"
  }
 },
 "nbformat": 4,
 "nbformat_minor": 5
}
