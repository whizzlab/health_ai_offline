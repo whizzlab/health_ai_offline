{
 "cells": [
  {
   "cell_type": "code",
   "execution_count": 1,
   "id": "d0d403c7",
   "metadata": {},
   "outputs": [],
   "source": [
    "import os\n",
    "import shutil\n",
    "import sys\n",
    "from tqdm import tqdm\n",
    "\n",
    "import tensorflow as tf\n",
    "import tensorflow_hub as hub\n",
    "import tensorflow_text as text\n",
    "from official.nlp import optimization  # to create AdamW optimizer\n",
    "\n",
    "tf.get_logger().setLevel('ERROR')"
   ]
  },
  {
   "cell_type": "code",
   "execution_count": 2,
   "id": "d6838b41",
   "metadata": {},
   "outputs": [],
   "source": [
    "import pandas as pd\n",
    "import numpy as np\n",
    "import matplotlib.pyplot as plt\n",
    "import seaborn as sns\n",
    "import re\n",
    "import nltk\n",
    "\n",
    "#for BERT\n",
    "import transformers"
   ]
  },
  {
   "cell_type": "code",
   "execution_count": 3,
   "id": "4510e657",
   "metadata": {},
   "outputs": [
    {
     "name": "stdout",
     "output_type": "stream",
     "text": [
      "[name: \"/device:CPU:0\"\n",
      "device_type: \"CPU\"\n",
      "memory_limit: 268435456\n",
      "locality {\n",
      "}\n",
      "incarnation: 9420004554228447128\n",
      ", name: \"/device:GPU:0\"\n",
      "device_type: \"GPU\"\n",
      "memory_limit: 22723493888\n",
      "locality {\n",
      "  bus_id: 1\n",
      "  links {\n",
      "  }\n",
      "}\n",
      "incarnation: 16656944599098317199\n",
      "physical_device_desc: \"device: 0, name: NVIDIA GeForce RTX 3090, pci bus id: 0000:01:00.0, compute capability: 8.6\"\n",
      "]\n",
      "2.5.0\n"
     ]
    }
   ],
   "source": [
    "from tensorflow.python.client import device_lib\n",
    "print(device_lib.list_local_devices())\n",
    "print(tf.__version__)"
   ]
  },
  {
   "cell_type": "code",
   "execution_count": 4,
   "id": "575ce426",
   "metadata": {},
   "outputs": [],
   "source": [
    "# GPU options to limit OOM erors\n",
    "physical_devices = tf.config.experimental.list_physical_devices('GPU')\n",
    "tf.config.experimental.set_memory_growth(physical_devices[0], True)"
   ]
  },
  {
   "cell_type": "markdown",
   "id": "862bb192",
   "metadata": {},
   "source": [
    "## Reload model"
   ]
  },
  {
   "cell_type": "code",
   "execution_count": 5,
   "id": "e03214bc",
   "metadata": {},
   "outputs": [],
   "source": [
    "#RELOAD MODEL\n",
    "\n",
    "saved_model_path = 'maturity_bert'\n",
    "\n",
    "reloaded_model = tf.saved_model.load(saved_model_path)"
   ]
  },
  {
   "cell_type": "code",
   "execution_count": 6,
   "id": "40e5e78d",
   "metadata": {},
   "outputs": [
    {
     "data": {
      "text/plain": [
       "<tensorflow.python.saved_model.load.Loader._recreate_base_user_object.<locals>._UserObject at 0x1fb978845b0>"
      ]
     },
     "execution_count": 6,
     "metadata": {},
     "output_type": "execute_result"
    }
   ],
   "source": [
    "reloaded_model"
   ]
  },
  {
   "cell_type": "markdown",
   "id": "4960d6e2",
   "metadata": {},
   "source": [
    "## Label data subset for further round of active learning"
   ]
  },
  {
   "cell_type": "code",
   "execution_count": 7,
   "id": "fae69321",
   "metadata": {},
   "outputs": [],
   "source": [
    "complete = pd.read_csv('data/test_2021_maturity.csv', index_col=0)"
   ]
  },
  {
   "cell_type": "code",
   "execution_count": 8,
   "id": "8f073f81-9bcf-43f0-8c55-374d988fc7fd",
   "metadata": {},
   "outputs": [],
   "source": [
    "#My version of the DF didn't have the 'feature' columns so made it here\n",
    "#complete['feature'] = (complete.title + ' ' + complete.abstract)"
   ]
  },
  {
   "cell_type": "code",
   "execution_count": 11,
   "id": "0e4cc1f1",
   "metadata": {},
   "outputs": [
    {
     "name": "stdout",
     "output_type": "stream",
     "text": [
      "<class 'pandas.core.frame.DataFrame'>\n",
      "Int64Index: 498 entries, 0 to 1432\n",
      "Data columns (total 2 columns):\n",
      " #   Column   Non-Null Count  Dtype \n",
      "---  ------   --------------  ----- \n",
      " 0   feature  498 non-null    object\n",
      " 1   truth    498 non-null    int64 \n",
      "dtypes: int64(1), object(1)\n",
      "memory usage: 11.7+ KB\n"
     ]
    }
   ],
   "source": [
    "complete.info()"
   ]
  },
  {
   "cell_type": "code",
   "execution_count": 12,
   "id": "db8f2fe5",
   "metadata": {},
   "outputs": [
    {
     "data": {
      "text/html": [
       "<div>\n",
       "<style scoped>\n",
       "    .dataframe tbody tr th:only-of-type {\n",
       "        vertical-align: middle;\n",
       "    }\n",
       "\n",
       "    .dataframe tbody tr th {\n",
       "        vertical-align: top;\n",
       "    }\n",
       "\n",
       "    .dataframe thead th {\n",
       "        text-align: right;\n",
       "    }\n",
       "</style>\n",
       "<table border=\"1\" class=\"dataframe\">\n",
       "  <thead>\n",
       "    <tr style=\"text-align: right;\">\n",
       "      <th></th>\n",
       "      <th>feature</th>\n",
       "    </tr>\n",
       "    <tr>\n",
       "      <th>id</th>\n",
       "      <th></th>\n",
       "    </tr>\n",
       "  </thead>\n",
       "  <tbody>\n",
       "    <tr>\n",
       "      <th>1415</th>\n",
       "      <td>Novel Subtypes of Pulmonary Emphysema Based on...</td>\n",
       "    </tr>\n",
       "    <tr>\n",
       "      <th>1417</th>\n",
       "      <td>Machine learning algorithms can more efficient...</td>\n",
       "    </tr>\n",
       "    <tr>\n",
       "      <th>1419</th>\n",
       "      <td>An Effective Deep Network for Automatic Segmen...</td>\n",
       "    </tr>\n",
       "    <tr>\n",
       "      <th>1422</th>\n",
       "      <td>Prediction of pathologic complete response to ...</td>\n",
       "    </tr>\n",
       "    <tr>\n",
       "      <th>1423</th>\n",
       "      <td>Prediction of blood lactate values in critical...</td>\n",
       "    </tr>\n",
       "    <tr>\n",
       "      <th>1424</th>\n",
       "      <td>Artificial intelligence for prediction of COVI...</td>\n",
       "    </tr>\n",
       "    <tr>\n",
       "      <th>1428</th>\n",
       "      <td>XGBoost, a Machine Learning Method, Predicts N...</td>\n",
       "    </tr>\n",
       "    <tr>\n",
       "      <th>1429</th>\n",
       "      <td>Using machine learning methods to predict nonh...</td>\n",
       "    </tr>\n",
       "    <tr>\n",
       "      <th>1431</th>\n",
       "      <td>Machine learning model predicts short-term mor...</td>\n",
       "    </tr>\n",
       "    <tr>\n",
       "      <th>1432</th>\n",
       "      <td>Random forest machine learning method outperfo...</td>\n",
       "    </tr>\n",
       "  </tbody>\n",
       "</table>\n",
       "</div>"
      ],
      "text/plain": [
       "                                                feature\n",
       "id                                                     \n",
       "1415  Novel Subtypes of Pulmonary Emphysema Based on...\n",
       "1417  Machine learning algorithms can more efficient...\n",
       "1419  An Effective Deep Network for Automatic Segmen...\n",
       "1422  Prediction of pathologic complete response to ...\n",
       "1423  Prediction of blood lactate values in critical...\n",
       "1424  Artificial intelligence for prediction of COVI...\n",
       "1428  XGBoost, a Machine Learning Method, Predicts N...\n",
       "1429  Using machine learning methods to predict nonh...\n",
       "1431  Machine learning model predicts short-term mor...\n",
       "1432  Random forest machine learning method outperfo..."
      ]
     },
     "execution_count": 12,
     "metadata": {},
     "output_type": "execute_result"
    }
   ],
   "source": [
    "labeldf = complete[['feature']].copy()\n",
    "labeldf.tail(10)"
   ]
  },
  {
   "cell_type": "code",
   "execution_count": 13,
   "id": "675e5597",
   "metadata": {},
   "outputs": [
    {
     "data": {
      "text/html": [
       "<div>\n",
       "<style scoped>\n",
       "    .dataframe tbody tr th:only-of-type {\n",
       "        vertical-align: middle;\n",
       "    }\n",
       "\n",
       "    .dataframe tbody tr th {\n",
       "        vertical-align: top;\n",
       "    }\n",
       "\n",
       "    .dataframe thead th {\n",
       "        text-align: right;\n",
       "    }\n",
       "</style>\n",
       "<table border=\"1\" class=\"dataframe\">\n",
       "  <thead>\n",
       "    <tr style=\"text-align: right;\">\n",
       "      <th></th>\n",
       "      <th>feature</th>\n",
       "    </tr>\n",
       "    <tr>\n",
       "      <th>id</th>\n",
       "      <th></th>\n",
       "    </tr>\n",
       "  </thead>\n",
       "  <tbody>\n",
       "  </tbody>\n",
       "</table>\n",
       "</div>"
      ],
      "text/plain": [
       "Empty DataFrame\n",
       "Columns: [feature]\n",
       "Index: []"
      ]
     },
     "execution_count": 13,
     "metadata": {},
     "output_type": "execute_result"
    }
   ],
   "source": [
    "labeldf[labeldf['feature'].isna()]"
   ]
  },
  {
   "cell_type": "code",
   "execution_count": 14,
   "id": "af082ac8",
   "metadata": {},
   "outputs": [
    {
     "data": {
      "text/html": [
       "<div>\n",
       "<style scoped>\n",
       "    .dataframe tbody tr th:only-of-type {\n",
       "        vertical-align: middle;\n",
       "    }\n",
       "\n",
       "    .dataframe tbody tr th {\n",
       "        vertical-align: top;\n",
       "    }\n",
       "\n",
       "    .dataframe thead th {\n",
       "        text-align: right;\n",
       "    }\n",
       "</style>\n",
       "<table border=\"1\" class=\"dataframe\">\n",
       "  <thead>\n",
       "    <tr style=\"text-align: right;\">\n",
       "      <th></th>\n",
       "      <th>feature</th>\n",
       "    </tr>\n",
       "    <tr>\n",
       "      <th>id</th>\n",
       "      <th></th>\n",
       "    </tr>\n",
       "  </thead>\n",
       "  <tbody>\n",
       "  </tbody>\n",
       "</table>\n",
       "</div>"
      ],
      "text/plain": [
       "Empty DataFrame\n",
       "Columns: [feature]\n",
       "Index: []"
      ]
     },
     "execution_count": 14,
     "metadata": {},
     "output_type": "execute_result"
    }
   ],
   "source": [
    "labeldf.dropna(subset=['feature'], inplace=True)\n",
    "labeldf[labeldf['feature'].isna()]"
   ]
  },
  {
   "cell_type": "code",
   "execution_count": 15,
   "id": "0072007f-3b05-42f6-9ceb-bf57ee5bedd3",
   "metadata": {},
   "outputs": [
    {
     "name": "stdout",
     "output_type": "stream",
     "text": [
      "<class 'pandas.core.frame.DataFrame'>\n",
      "Int64Index: 498 entries, 0 to 1432\n",
      "Data columns (total 1 columns):\n",
      " #   Column   Non-Null Count  Dtype \n",
      "---  ------   --------------  ----- \n",
      " 0   feature  498 non-null    object\n",
      "dtypes: object(1)\n",
      "memory usage: 7.8+ KB\n"
     ]
    }
   ],
   "source": [
    "labeldf.info()"
   ]
  },
  {
   "cell_type": "code",
   "execution_count": 16,
   "id": "e5c373d2-5661-4b76-86b5-845f4878cbcf",
   "metadata": {},
   "outputs": [],
   "source": [
    "def label_unlabelled(df, feature_column = 'feature', model=reloaded_model, number_to_label='all', cpu_labelling=False, chunk_size=100):\n",
    "    \n",
    "    # Either use the whole df, random sample of size specified or a list of indices\n",
    "    if number_to_label == 'all':\n",
    "        labelled_df = df[feature_column].copy()\n",
    "        \n",
    "    elif isinstance(number_to_label, list):\n",
    "        labelled_df = df.loc[number_to_label, feature_column].copy()\n",
    "        \n",
    "    else:\n",
    "        assert isinstance(number_to_label, int), \"Number to label must be 'all' or an integer subset to label\"\n",
    "        assert number_to_label < len(df), \"When specifying a subset to label, must be less than the total number of samples\"\n",
    "        labelled_df = df[feature_column].sample(number_to_label).copy()\n",
    "        \n",
    "    # Add a column to the DF for labels\n",
    "    labelled_df = labelled_df.to_frame()\n",
    "    labelled_df['include'] = np.nan \n",
    "    \n",
    "    # Decide what device we want TF to use\n",
    "    if cpu_labelling:\n",
    "        device = '/cpu:0'\n",
    "        print(\"Labelling with CPU...\")\n",
    "    else:\n",
    "        device = '/gpu:0'\n",
    "        print(\"Labelling with GPU...\")\n",
    "     \n",
    "    # Label by specified chunk size\n",
    "    with tqdm(total=len(labelled_df), file=sys.stdout) as pbar:\n",
    "        for chunk_i in range(0, len(labelled_df.index), chunk_size):\n",
    "            \n",
    "            chunk = labelled_df.index[chunk_i:chunk_i + chunk_size]\n",
    "        \n",
    "            try:\n",
    "                with tf.device(device):\n",
    "                    labels = tf.sigmoid(model(tf.constant(labelled_df.loc[chunk, 'feature'])))\n",
    "                labelled_df.loc[chunk, 'include'] = labels\n",
    "                pbar.update(len(chunk))\n",
    "            except Exception as e:\n",
    "                print(e)\n",
    "                print(\"Returning (possibly) partially labelled dataset...\")\n",
    "                return labelled_df\n",
    "                break\n",
    "            \n",
    "    return labelled_df"
   ]
  },
  {
   "cell_type": "code",
   "execution_count": 17,
   "id": "fa0263ad-40f1-42cf-9f5e-7928f9f7bf7c",
   "metadata": {},
   "outputs": [
    {
     "name": "stdout",
     "output_type": "stream",
     "text": [
      "Labelling with GPU...\n",
      "100%|████████████████████████████████████████████████████████████████████████████████| 498/498 [00:09<00:00, 53.30it/s]\n"
     ]
    }
   ],
   "source": [
    "labelled = label_unlabelled(labeldf, number_to_label='all', cpu_labelling=False, chunk_size=50)"
   ]
  },
  {
   "cell_type": "code",
   "execution_count": 15,
   "id": "496dbd2b-1b2a-4c20-b401-7ce855c838b7",
   "metadata": {},
   "outputs": [
    {
     "data": {
      "text/html": [
       "<div>\n",
       "<style scoped>\n",
       "    .dataframe tbody tr th:only-of-type {\n",
       "        vertical-align: middle;\n",
       "    }\n",
       "\n",
       "    .dataframe tbody tr th {\n",
       "        vertical-align: top;\n",
       "    }\n",
       "\n",
       "    .dataframe thead th {\n",
       "        text-align: right;\n",
       "    }\n",
       "</style>\n",
       "<table border=\"1\" class=\"dataframe\">\n",
       "  <thead>\n",
       "    <tr style=\"text-align: right;\">\n",
       "      <th></th>\n",
       "      <th>feature</th>\n",
       "      <th>include</th>\n",
       "    </tr>\n",
       "  </thead>\n",
       "  <tbody>\n",
       "    <tr>\n",
       "      <th>4135</th>\n",
       "      <td>Rapid Artificial Intelligence Solutions in a P...</td>\n",
       "      <td>0.847937</td>\n",
       "    </tr>\n",
       "    <tr>\n",
       "      <th>9051</th>\n",
       "      <td>Evaluation of the Accuracy of a Video and AI S...</td>\n",
       "      <td>0.203166</td>\n",
       "    </tr>\n",
       "    <tr>\n",
       "      <th>11401</th>\n",
       "      <td>Microscope-Based Automated Quantification of L...</td>\n",
       "      <td>0.416859</td>\n",
       "    </tr>\n",
       "    <tr>\n",
       "      <th>11545</th>\n",
       "      <td>Deep learning diagnostic and risk-stratificati...</td>\n",
       "      <td>0.284014</td>\n",
       "    </tr>\n",
       "    <tr>\n",
       "      <th>14228</th>\n",
       "      <td>Handling missing MRI sequences in deep learnin...</td>\n",
       "      <td>0.126651</td>\n",
       "    </tr>\n",
       "    <tr>\n",
       "      <th>15039</th>\n",
       "      <td>Deep learning detection of subtle fractures us...</td>\n",
       "      <td>0.459525</td>\n",
       "    </tr>\n",
       "    <tr>\n",
       "      <th>25336</th>\n",
       "      <td>Transforming self-reported outcomes from a str...</td>\n",
       "      <td>0.594242</td>\n",
       "    </tr>\n",
       "    <tr>\n",
       "      <th>28168</th>\n",
       "      <td>Machine Learning-Based MRI Texture Analysis to...</td>\n",
       "      <td>0.720846</td>\n",
       "    </tr>\n",
       "    <tr>\n",
       "      <th>28940</th>\n",
       "      <td>Deep learning for automated sleep staging usin...</td>\n",
       "      <td>0.607522</td>\n",
       "    </tr>\n",
       "    <tr>\n",
       "      <th>29019</th>\n",
       "      <td>Cost-effectiveness of Autonomous Point-of-Care...</td>\n",
       "      <td>0.842223</td>\n",
       "    </tr>\n",
       "    <tr>\n",
       "      <th>29242</th>\n",
       "      <td>Automatically discriminating and localizing CO...</td>\n",
       "      <td>0.304458</td>\n",
       "    </tr>\n",
       "    <tr>\n",
       "      <th>36687</th>\n",
       "      <td>Differentiation of Benign from Malignant Pulmo...</td>\n",
       "      <td>0.348503</td>\n",
       "    </tr>\n",
       "    <tr>\n",
       "      <th>37294</th>\n",
       "      <td>Automatic detection of various abnormalities i...</td>\n",
       "      <td>0.409787</td>\n",
       "    </tr>\n",
       "    <tr>\n",
       "      <th>44366</th>\n",
       "      <td>Real-time Malaria Parasite Screening in Thick ...</td>\n",
       "      <td>0.117532</td>\n",
       "    </tr>\n",
       "    <tr>\n",
       "      <th>46716</th>\n",
       "      <td>Cost-effectiveness of targeted screening for t...</td>\n",
       "      <td>0.142129</td>\n",
       "    </tr>\n",
       "    <tr>\n",
       "      <th>46868</th>\n",
       "      <td>Deep Learning for Predicting Enhancing Lesions...</td>\n",
       "      <td>0.441810</td>\n",
       "    </tr>\n",
       "    <tr>\n",
       "      <th>64470</th>\n",
       "      <td>Automatic Quantification of Computed Tomograph...</td>\n",
       "      <td>0.169375</td>\n",
       "    </tr>\n",
       "    <tr>\n",
       "      <th>65308</th>\n",
       "      <td>Deep embeddings for novelty detection in myopa...</td>\n",
       "      <td>0.604986</td>\n",
       "    </tr>\n",
       "    <tr>\n",
       "      <th>70580</th>\n",
       "      <td>Collaboration between a human group and artifi...</td>\n",
       "      <td>0.615158</td>\n",
       "    </tr>\n",
       "    <tr>\n",
       "      <th>87568</th>\n",
       "      <td>A Computer-Aided Diagnosis System Using Artifi...</td>\n",
       "      <td>0.612446</td>\n",
       "    </tr>\n",
       "  </tbody>\n",
       "</table>\n",
       "</div>"
      ],
      "text/plain": [
       "                                                 feature   include\n",
       "4135   Rapid Artificial Intelligence Solutions in a P...  0.847937\n",
       "9051   Evaluation of the Accuracy of a Video and AI S...  0.203166\n",
       "11401  Microscope-Based Automated Quantification of L...  0.416859\n",
       "11545  Deep learning diagnostic and risk-stratificati...  0.284014\n",
       "14228  Handling missing MRI sequences in deep learnin...  0.126651\n",
       "15039  Deep learning detection of subtle fractures us...  0.459525\n",
       "25336  Transforming self-reported outcomes from a str...  0.594242\n",
       "28168  Machine Learning-Based MRI Texture Analysis to...  0.720846\n",
       "28940  Deep learning for automated sleep staging usin...  0.607522\n",
       "29019  Cost-effectiveness of Autonomous Point-of-Care...  0.842223\n",
       "29242  Automatically discriminating and localizing CO...  0.304458\n",
       "36687  Differentiation of Benign from Malignant Pulmo...  0.348503\n",
       "37294  Automatic detection of various abnormalities i...  0.409787\n",
       "44366  Real-time Malaria Parasite Screening in Thick ...  0.117532\n",
       "46716  Cost-effectiveness of targeted screening for t...  0.142129\n",
       "46868  Deep Learning for Predicting Enhancing Lesions...  0.441810\n",
       "64470  Automatic Quantification of Computed Tomograph...  0.169375\n",
       "65308  Deep embeddings for novelty detection in myopa...  0.604986\n",
       "70580  Collaboration between a human group and artifi...  0.615158\n",
       "87568  A Computer-Aided Diagnosis System Using Artifi...  0.612446"
      ]
     },
     "execution_count": 15,
     "metadata": {},
     "output_type": "execute_result"
    }
   ],
   "source": [
    "uncertain = labelled[(labelled.include < 0.9) & (labelled.include > 0.1)]\n",
    "uncertain.head(20)"
   ]
  },
  {
   "cell_type": "code",
   "execution_count": 16,
   "id": "8783ef7c-1c62-4a8f-8966-df0d3e932a38",
   "metadata": {},
   "outputs": [],
   "source": [
    "labelled['include_rounded'] = np.round(labelled.include)"
   ]
  },
  {
   "cell_type": "code",
   "execution_count": 17,
   "id": "d49a1c98-2aee-410f-907a-69a0c2f1fb98",
   "metadata": {},
   "outputs": [
    {
     "data": {
      "text/plain": [
       "0.0    31275\n",
       "1.0     1197\n",
       "Name: include_rounded, dtype: int64"
      ]
     },
     "execution_count": 17,
     "metadata": {},
     "output_type": "execute_result"
    }
   ],
   "source": [
    "labelled.include_rounded.value_counts()"
   ]
  },
  {
   "cell_type": "code",
   "execution_count": 18,
   "id": "c53888ec",
   "metadata": {},
   "outputs": [
    {
     "data": {
      "text/html": [
       "<div>\n",
       "<style scoped>\n",
       "    .dataframe tbody tr th:only-of-type {\n",
       "        vertical-align: middle;\n",
       "    }\n",
       "\n",
       "    .dataframe tbody tr th {\n",
       "        vertical-align: top;\n",
       "    }\n",
       "\n",
       "    .dataframe thead th {\n",
       "        text-align: right;\n",
       "    }\n",
       "</style>\n",
       "<table border=\"1\" class=\"dataframe\">\n",
       "  <thead>\n",
       "    <tr style=\"text-align: right;\">\n",
       "      <th></th>\n",
       "      <th>feature</th>\n",
       "      <th>include</th>\n",
       "      <th>include_rounded</th>\n",
       "    </tr>\n",
       "  </thead>\n",
       "  <tbody>\n",
       "    <tr>\n",
       "      <th>161510</th>\n",
       "      <td>On the use of neural network techniques to ana...</td>\n",
       "      <td>1.577470e-07</td>\n",
       "      <td>0.0</td>\n",
       "    </tr>\n",
       "    <tr>\n",
       "      <th>161511</th>\n",
       "      <td>Analysis of quantitative EEG with artificial n...</td>\n",
       "      <td>1.099111e-07</td>\n",
       "      <td>0.0</td>\n",
       "    </tr>\n",
       "    <tr>\n",
       "      <th>161513</th>\n",
       "      <td>Neural networks as a prognostic tool for patie...</td>\n",
       "      <td>1.232864e-06</td>\n",
       "      <td>0.0</td>\n",
       "    </tr>\n",
       "    <tr>\n",
       "      <th>161517</th>\n",
       "      <td>Automated interpretation of myocardial SPECT p...</td>\n",
       "      <td>2.712667e-07</td>\n",
       "      <td>0.0</td>\n",
       "    </tr>\n",
       "    <tr>\n",
       "      <th>161524</th>\n",
       "      <td>Acute pulmonary embolism: cost-effectiveness a...</td>\n",
       "      <td>6.019955e-07</td>\n",
       "      <td>0.0</td>\n",
       "    </tr>\n",
       "  </tbody>\n",
       "</table>\n",
       "</div>"
      ],
      "text/plain": [
       "                                                  feature       include  \\\n",
       "161510  On the use of neural network techniques to ana...  1.577470e-07   \n",
       "161511  Analysis of quantitative EEG with artificial n...  1.099111e-07   \n",
       "161513  Neural networks as a prognostic tool for patie...  1.232864e-06   \n",
       "161517  Automated interpretation of myocardial SPECT p...  2.712667e-07   \n",
       "161524  Acute pulmonary embolism: cost-effectiveness a...  6.019955e-07   \n",
       "\n",
       "        include_rounded  \n",
       "161510              0.0  \n",
       "161511              0.0  \n",
       "161513              0.0  \n",
       "161517              0.0  \n",
       "161524              0.0  "
      ]
     },
     "execution_count": 18,
     "metadata": {},
     "output_type": "execute_result"
    }
   ],
   "source": [
    "labelled.tail(5)"
   ]
  },
  {
   "cell_type": "code",
   "execution_count": 19,
   "id": "4f525e80-e88c-41f4-b840-b2b951f47a24",
   "metadata": {},
   "outputs": [
    {
     "name": "stdout",
     "output_type": "stream",
     "text": [
      "<class 'pandas.core.frame.DataFrame'>\n",
      "Int64Index: 32472 entries, 0 to 161524\n",
      "Data columns (total 3 columns):\n",
      " #   Column           Non-Null Count  Dtype  \n",
      "---  ------           --------------  -----  \n",
      " 0   feature          32472 non-null  object \n",
      " 1   include          32472 non-null  float64\n",
      " 2   include_rounded  32472 non-null  float64\n",
      "dtypes: float64(2), object(1)\n",
      "memory usage: 2.0+ MB\n"
     ]
    }
   ],
   "source": [
    "labelled.info()"
   ]
  },
  {
   "cell_type": "code",
   "execution_count": 20,
   "id": "cc2b9d50",
   "metadata": {},
   "outputs": [
    {
     "data": {
      "text/html": [
       "<div>\n",
       "<style scoped>\n",
       "    .dataframe tbody tr th:only-of-type {\n",
       "        vertical-align: middle;\n",
       "    }\n",
       "\n",
       "    .dataframe tbody tr th {\n",
       "        vertical-align: top;\n",
       "    }\n",
       "\n",
       "    .dataframe thead th {\n",
       "        text-align: right;\n",
       "    }\n",
       "</style>\n",
       "<table border=\"1\" class=\"dataframe\">\n",
       "  <thead>\n",
       "    <tr style=\"text-align: right;\">\n",
       "      <th></th>\n",
       "      <th>pmid</th>\n",
       "      <th>doi</th>\n",
       "      <th>title</th>\n",
       "      <th>abstract</th>\n",
       "      <th>article_date</th>\n",
       "      <th>pubmed_date</th>\n",
       "      <th>article_type</th>\n",
       "      <th>lang</th>\n",
       "      <th>journal</th>\n",
       "      <th>journal_short</th>\n",
       "      <th>journal_country</th>\n",
       "      <th>authors</th>\n",
       "      <th>author_affils</th>\n",
       "      <th>keywords</th>\n",
       "      <th>mesh_terms</th>\n",
       "      <th>references_pmids</th>\n",
       "      <th>feature</th>\n",
       "      <th>include</th>\n",
       "    </tr>\n",
       "  </thead>\n",
       "  <tbody>\n",
       "    <tr>\n",
       "      <th>161510</th>\n",
       "      <td>9438272</td>\n",
       "      <td>NaN</td>\n",
       "      <td>On the use of neural network techniques to ana...</td>\n",
       "      <td>This is the third communication on the use of ...</td>\n",
       "      <td>NaN</td>\n",
       "      <td>23/01/1998</td>\n",
       "      <td>Clinical Trial</td>\n",
       "      <td>eng</td>\n",
       "      <td>Neuropsychobiology</td>\n",
       "      <td>Neuropsychobiology</td>\n",
       "      <td>Switzerland</td>\n",
       "      <td>['Baumgart-Schmitt R', 'Herrmann W M', 'Eilers...</td>\n",
       "      <td>NaN</td>\n",
       "      <td>NaN</td>\n",
       "      <td>['Algorithms', 'Electroencephalography', 'Elec...</td>\n",
       "      <td>NaN</td>\n",
       "      <td>On the use of neural network techniques to ana...</td>\n",
       "      <td>1.0</td>\n",
       "    </tr>\n",
       "    <tr>\n",
       "      <th>161511</th>\n",
       "      <td>9438271</td>\n",
       "      <td>NaN</td>\n",
       "      <td>Analysis of quantitative EEG with artificial n...</td>\n",
       "      <td>Artificial neural networks (ANN) are widely us...</td>\n",
       "      <td>NaN</td>\n",
       "      <td>23/01/1998</td>\n",
       "      <td>Clinical Trial</td>\n",
       "      <td>eng</td>\n",
       "      <td>Neuropsychobiology</td>\n",
       "      <td>Neuropsychobiology</td>\n",
       "      <td>Switzerland</td>\n",
       "      <td>['Winterer G', 'Ziller M', 'Klöppel B', 'Heinz...</td>\n",
       "      <td>NaN</td>\n",
       "      <td>NaN</td>\n",
       "      <td>['Alcoholism', 'Algorithms', 'Discriminant Ana...</td>\n",
       "      <td>NaN</td>\n",
       "      <td>Analysis of quantitative EEG with artificial n...</td>\n",
       "      <td>1.0</td>\n",
       "    </tr>\n",
       "    <tr>\n",
       "      <th>161513</th>\n",
       "      <td>9436967</td>\n",
       "      <td>NaN</td>\n",
       "      <td>Neural networks as a prognostic tool for patie...</td>\n",
       "      <td>Patients with non-small cell carcinoma of the ...</td>\n",
       "      <td>NaN</td>\n",
       "      <td>22/01/1998</td>\n",
       "      <td>Journal Article</td>\n",
       "      <td>eng</td>\n",
       "      <td>Modern pathology : an official journal of the ...</td>\n",
       "      <td>Mod Pathol</td>\n",
       "      <td>United States</td>\n",
       "      <td>['Bellotti M', 'Elsner B', 'Paez De Lima A', '...</td>\n",
       "      <td>NaN</td>\n",
       "      <td>NaN</td>\n",
       "      <td>['Adenocarcinoma', 'Antigens, Nuclear', 'Bioma...</td>\n",
       "      <td>NaN</td>\n",
       "      <td>Neural networks as a prognostic tool for patie...</td>\n",
       "      <td>1.0</td>\n",
       "    </tr>\n",
       "    <tr>\n",
       "      <th>161517</th>\n",
       "      <td>9430460</td>\n",
       "      <td>NaN</td>\n",
       "      <td>Automated interpretation of myocardial SPECT p...</td>\n",
       "      <td>The purpose of this study was to develop a com...</td>\n",
       "      <td>NaN</td>\n",
       "      <td>16/01/1998</td>\n",
       "      <td>Comparative Study</td>\n",
       "      <td>eng</td>\n",
       "      <td>Journal of nuclear medicine : official publica...</td>\n",
       "      <td>J Nucl Med</td>\n",
       "      <td>United States</td>\n",
       "      <td>['Lindahl D', 'Palmer J', 'Ohlsson M', 'Peters...</td>\n",
       "      <td>NaN</td>\n",
       "      <td>NaN</td>\n",
       "      <td>['Coronary Angiography', 'Coronary Disease', '...</td>\n",
       "      <td>NaN</td>\n",
       "      <td>Automated interpretation of myocardial SPECT p...</td>\n",
       "      <td>1.0</td>\n",
       "    </tr>\n",
       "    <tr>\n",
       "      <th>161524</th>\n",
       "      <td>9423655</td>\n",
       "      <td>NaN</td>\n",
       "      <td>Acute pulmonary embolism: cost-effectiveness a...</td>\n",
       "      <td>To evaluate the cost-effectiveness of artifici...</td>\n",
       "      <td>NaN</td>\n",
       "      <td>10/01/1998</td>\n",
       "      <td>Journal Article</td>\n",
       "      <td>eng</td>\n",
       "      <td>Radiology</td>\n",
       "      <td>Radiology</td>\n",
       "      <td>United States</td>\n",
       "      <td>['Tourassi G D', 'Floyd C E', 'Coleman R E']</td>\n",
       "      <td>NaN</td>\n",
       "      <td>NaN</td>\n",
       "      <td>['Acute Disease', 'Angiography', 'Cost-Benefit...</td>\n",
       "      <td>NaN</td>\n",
       "      <td>Acute pulmonary embolism: cost-effectiveness a...</td>\n",
       "      <td>1.0</td>\n",
       "    </tr>\n",
       "  </tbody>\n",
       "</table>\n",
       "</div>"
      ],
      "text/plain": [
       "           pmid  doi                                              title  \\\n",
       "161510  9438272  NaN  On the use of neural network techniques to ana...   \n",
       "161511  9438271  NaN  Analysis of quantitative EEG with artificial n...   \n",
       "161513  9436967  NaN  Neural networks as a prognostic tool for patie...   \n",
       "161517  9430460  NaN  Automated interpretation of myocardial SPECT p...   \n",
       "161524  9423655  NaN  Acute pulmonary embolism: cost-effectiveness a...   \n",
       "\n",
       "                                                 abstract article_date  \\\n",
       "161510  This is the third communication on the use of ...          NaN   \n",
       "161511  Artificial neural networks (ANN) are widely us...          NaN   \n",
       "161513  Patients with non-small cell carcinoma of the ...          NaN   \n",
       "161517  The purpose of this study was to develop a com...          NaN   \n",
       "161524  To evaluate the cost-effectiveness of artifici...          NaN   \n",
       "\n",
       "       pubmed_date       article_type lang  \\\n",
       "161510  23/01/1998     Clinical Trial  eng   \n",
       "161511  23/01/1998     Clinical Trial  eng   \n",
       "161513  22/01/1998    Journal Article  eng   \n",
       "161517  16/01/1998  Comparative Study  eng   \n",
       "161524  10/01/1998    Journal Article  eng   \n",
       "\n",
       "                                                  journal       journal_short  \\\n",
       "161510                                 Neuropsychobiology  Neuropsychobiology   \n",
       "161511                                 Neuropsychobiology  Neuropsychobiology   \n",
       "161513  Modern pathology : an official journal of the ...          Mod Pathol   \n",
       "161517  Journal of nuclear medicine : official publica...          J Nucl Med   \n",
       "161524                                          Radiology           Radiology   \n",
       "\n",
       "       journal_country                                            authors  \\\n",
       "161510     Switzerland  ['Baumgart-Schmitt R', 'Herrmann W M', 'Eilers...   \n",
       "161511     Switzerland  ['Winterer G', 'Ziller M', 'Klöppel B', 'Heinz...   \n",
       "161513   United States  ['Bellotti M', 'Elsner B', 'Paez De Lima A', '...   \n",
       "161517   United States  ['Lindahl D', 'Palmer J', 'Ohlsson M', 'Peters...   \n",
       "161524   United States       ['Tourassi G D', 'Floyd C E', 'Coleman R E']   \n",
       "\n",
       "       author_affils keywords  \\\n",
       "161510           NaN      NaN   \n",
       "161511           NaN      NaN   \n",
       "161513           NaN      NaN   \n",
       "161517           NaN      NaN   \n",
       "161524           NaN      NaN   \n",
       "\n",
       "                                               mesh_terms references_pmids  \\\n",
       "161510  ['Algorithms', 'Electroencephalography', 'Elec...              NaN   \n",
       "161511  ['Alcoholism', 'Algorithms', 'Discriminant Ana...              NaN   \n",
       "161513  ['Adenocarcinoma', 'Antigens, Nuclear', 'Bioma...              NaN   \n",
       "161517  ['Coronary Angiography', 'Coronary Disease', '...              NaN   \n",
       "161524  ['Acute Disease', 'Angiography', 'Cost-Benefit...              NaN   \n",
       "\n",
       "                                                  feature  include  \n",
       "161510  On the use of neural network techniques to ana...      1.0  \n",
       "161511  Analysis of quantitative EEG with artificial n...      1.0  \n",
       "161513  Neural networks as a prognostic tool for patie...      1.0  \n",
       "161517  Automated interpretation of myocardial SPECT p...      1.0  \n",
       "161524  Acute pulmonary embolism: cost-effectiveness a...      1.0  "
      ]
     },
     "execution_count": 20,
     "metadata": {},
     "output_type": "execute_result"
    }
   ],
   "source": [
    "complete.dropna(subset=['feature'], inplace=True)\n",
    "complete.tail(5)"
   ]
  },
  {
   "cell_type": "code",
   "execution_count": 21,
   "id": "b01cfb07",
   "metadata": {},
   "outputs": [
    {
     "name": "stdout",
     "output_type": "stream",
     "text": [
      "32472\n",
      "32472\n"
     ]
    }
   ],
   "source": [
    "print(len(complete))\n",
    "print(len(labelled))"
   ]
  },
  {
   "cell_type": "code",
   "execution_count": 22,
   "id": "3199dc2b",
   "metadata": {},
   "outputs": [],
   "source": [
    "complete['include_fuzzy'] = labelled['include']\n",
    "complete['include'] = labelled['include_rounded']"
   ]
  },
  {
   "cell_type": "code",
   "execution_count": 23,
   "id": "a2590738",
   "metadata": {},
   "outputs": [],
   "source": [
    "# SAVE FINAL FILES"
   ]
  },
  {
   "cell_type": "code",
   "execution_count": 24,
   "id": "e85a6424",
   "metadata": {},
   "outputs": [],
   "source": [
    "#uncertain.to_csv(\"final_outputs/comparative_uncertain.csv\")"
   ]
  },
  {
   "cell_type": "code",
   "execution_count": 25,
   "id": "da63104c",
   "metadata": {},
   "outputs": [],
   "source": [
    "complete.to_csv(\"final_outputs/comparative_labelled_2.csv\")"
   ]
  },
  {
   "cell_type": "code",
   "execution_count": 26,
   "id": "ce79c410",
   "metadata": {},
   "outputs": [
    {
     "data": {
      "text/plain": [
       "0.0    31275\n",
       "1.0     1197\n",
       "Name: include, dtype: int64"
      ]
     },
     "execution_count": 26,
     "metadata": {},
     "output_type": "execute_result"
    }
   ],
   "source": [
    "complete['include'].value_counts()"
   ]
  },
  {
   "cell_type": "code",
   "execution_count": null,
   "id": "05fd292d",
   "metadata": {},
   "outputs": [],
   "source": []
  }
 ],
 "metadata": {
  "kernelspec": {
   "display_name": "Python 3 (ipykernel)",
   "language": "python",
   "name": "python3"
  },
  "language_info": {
   "codemirror_mode": {
    "name": "ipython",
    "version": 3
   },
   "file_extension": ".py",
   "mimetype": "text/x-python",
   "name": "python",
   "nbconvert_exporter": "python",
   "pygments_lexer": "ipython3",
   "version": "3.9.5"
  }
 },
 "nbformat": 4,
 "nbformat_minor": 5
}
